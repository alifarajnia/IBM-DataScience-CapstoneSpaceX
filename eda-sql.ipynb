{
 "cells": [
  {
   "cell_type": "markdown",
   "metadata": {},
   "source": [
    "<p style=\"text-align:center\">\n",
    "    <a href=\"https://skills.network/?utm_medium=Exinfluencer&utm_source=Exinfluencer&utm_content=000026UJ&utm_term=10006555&utm_id=NA-SkillsNetwork-Channel-SkillsNetworkCoursesIBMDS0321ENSkillsNetwork26802033-2022-01-01\" target=\"_blank\">\n",
    "    <img src=\"https://cf-courses-data.s3.us.cloud-object-storage.appdomain.cloud/assets/logos/SN_web_lightmode.png\" width=\"200\" alt=\"Skills Network Logo\"  />\n",
    "    </a>\n",
    "</p>\n",
    "\n",
    "<h1 align=center><font size = 5>Assignment: SQL Notebook for Peer Assignment</font></h1>\n",
    "\n",
    "Estimated time needed: **60** minutes.\n",
    "\n",
    "## Introduction\n",
    "\n",
    "Using this Python notebook you will:\n",
    "\n",
    "1.  Understand the Spacex DataSet\n",
    "2.  Load the dataset  into the corresponding table in a Db2 database\n",
    "3.  Execute SQL queries to answer assignment questions\n"
   ]
  },
  {
   "cell_type": "markdown",
   "metadata": {},
   "source": [
    "## Overview of the DataSet\n",
    "\n",
    "SpaceX has gained worldwide attention for a series of historic milestones.\n",
    "\n",
    "It is the only private company ever to return a spacecraft from low-earth orbit, which it first accomplished in December 2010.\n",
    "SpaceX advertises Falcon 9 rocket launches on its website with a cost of 62 million dollars wheras other providers cost upward of 165 million dollars each, much of the savings is because Space X can reuse the first stage.\n",
    "\n",
    "Therefore if we can determine if the first stage will land, we can determine the cost of a launch.\n",
    "\n",
    "This information can be used if an alternate company wants to bid against SpaceX for a rocket launch.\n",
    "\n",
    "This dataset includes a record for each payload carried during a SpaceX mission into outer space.\n"
   ]
  },
  {
   "cell_type": "markdown",
   "metadata": {},
   "source": [
    "### Download the datasets\n",
    "\n",
    "This assignment requires you to load the spacex dataset.\n",
    "\n",
    "In many cases the dataset to be analyzed is available as a .CSV (comma separated values) file, perhaps on the internet. Click on the link below to download and save the dataset (.CSV file):\n",
    "\n",
    "<a href=\"https://cf-courses-data.s3.us.cloud-object-storage.appdomain.cloud/IBM-DS0321EN-SkillsNetwork/labs/module_2/data/Spacex.csv?utm_medium=Exinfluencer&utm_source=Exinfluencer&utm_content=000026UJ&utm_term=10006555&utm_id=NA-SkillsNetwork-Channel-SkillsNetworkCoursesIBMDS0321ENSkillsNetwork26802033-2022-01-01\" target=\"_blank\">Spacex DataSet</a>\n"
   ]
  },
  {
   "cell_type": "markdown",
   "metadata": {},
   "source": [
    "### Store the dataset in database table\n",
    "\n",
    "**it is highly recommended to manually load the table using the database console LOAD tool in DB2**.\n",
    "\n",
    "<img src = \"https://cf-courses-data.s3.us.cloud-object-storage.appdomain.cloud/IBM-DS0321EN-SkillsNetwork/labs/module_2/images/spacexload.png\">\n",
    "\n",
    "Now open the Db2 console, open the LOAD tool, Select / Drag the .CSV file for the  dataset, Next create a New Table, and then follow the steps on-screen instructions to load the data. Name the new table as follows:\n",
    "\n",
    "**SPACEXDATASET**\n",
    "\n",
    "**Follow these steps while using old DB2 UI which is having Open Console Screen**\n",
    "\n",
    "**Note:While loading Spacex dataset, ensure that detect datatypes is disabled. Later click on the pencil icon(edit option).**\n",
    "\n",
    "1.  Change the Date Format by manually typing DD-MM-YYYY and timestamp format as DD-MM-YYYY HH\\:MM:SS\n",
    "\n",
    "2.  Change the PAYLOAD_MASS\\_\\_KG\\_  datatype  to INTEGER.\n",
    "\n",
    "<img src = \"https://cf-courses-data.s3.us.cloud-object-storage.appdomain.cloud/IBM-DS0321EN-SkillsNetwork/labs/module_2/images/spacexload2.png\">\n"
   ]
  },
  {
   "cell_type": "markdown",
   "metadata": {},
   "source": [
    "**Changes to be considered when having DB2 instance with the new UI having Go to UI screen**\n",
    "\n",
    "*   Refer to this insruction in this <a href=\"https://cf-courses-data.s3.us.cloud-object-storage.appdomain.cloud/IBMDeveloperSkillsNetwork-DB0201EN-SkillsNetwork/labs/Labs_Coursera_V5/labs/Lab%20-%20Sign%20up%20for%20IBM%20Cloud%20-%20Create%20Db2%20service%20instance%20-%20Get%20started%20with%20the%20Db2%20console/instructional-labs.md.html?utm_medium=Exinfluencer&utm_source=Exinfluencer&utm_content=000026UJ&utm_term=10006555&utm_id=NA-SkillsNetwork-Channel-SkillsNetworkCoursesIBMDS0321ENSkillsNetwork26802033-2022-01-01\">link</a> for viewing  the new  Go to UI screen.\n",
    "\n",
    "*   Later click on **Data link(below SQL)**  in the Go to UI screen  and click on **Load Data** tab.\n",
    "\n",
    "*   Later browse for the downloaded spacex file.\n",
    "\n",
    "<img src=\"https://cf-courses-data.s3.us.cloud-object-storage.appdomain.cloud/IBM-DS0321EN-SkillsNetwork/labs/module_2/images/browsefile.png\" width=\"800\"/>\n",
    "\n",
    "*   Once done select the schema andload the file.\n",
    "\n",
    " <img src=\"https://cf-courses-data.s3.us.cloud-object-storage.appdomain.cloud/IBM-DS0321EN-SkillsNetwork/labs/module_2/images/spacexload3.png\" width=\"800\"/>\n"
   ]
  },
  {
   "cell_type": "code",
   "execution_count": 1,
   "metadata": {},
   "outputs": [
    {
     "name": "stdout",
     "output_type": "stream",
     "text": [
      "Collecting sqlalchemy==1.3.9\n",
      "  Downloading SQLAlchemy-1.3.9.tar.gz (6.0 MB)\n",
      "\u001b[2K     \u001b[90m━━━━━━━━━━━━━━━━━━━━━━━━━━━━━━━━━━━━━━━━\u001b[0m \u001b[32m6.0/6.0 MB\u001b[0m \u001b[31m67.0 MB/s\u001b[0m eta \u001b[36m0:00:00\u001b[0m:00:01\u001b[0m0:01\u001b[0m\n",
      "\u001b[?25h  Preparing metadata (setup.py) ... \u001b[?25ldone\n",
      "\u001b[?25hBuilding wheels for collected packages: sqlalchemy\n",
      "  Building wheel for sqlalchemy (setup.py) ... \u001b[?25ldone\n",
      "\u001b[?25h  Created wheel for sqlalchemy: filename=SQLAlchemy-1.3.9-cp37-cp37m-linux_x86_64.whl size=1159122 sha256=0a3de39bdada15e7a3913f7653d8e3b5bae1c03517c1318e317840c87e45e358\n",
      "  Stored in directory: /home/jupyterlab/.cache/pip/wheels/ef/95/ac/c232f83b415900c26553c64266e1a2b2863bc63e7a5d606c7e\n",
      "Successfully built sqlalchemy\n",
      "Installing collected packages: sqlalchemy\n",
      "  Attempting uninstall: sqlalchemy\n",
      "    Found existing installation: SQLAlchemy 1.3.24\n",
      "    Uninstalling SQLAlchemy-1.3.24:\n",
      "      Successfully uninstalled SQLAlchemy-1.3.24\n",
      "Successfully installed sqlalchemy-1.3.9\n"
     ]
    }
   ],
   "source": [
    "!pip install sqlalchemy==1.3.9\n"
   ]
  },
  {
   "cell_type": "markdown",
   "metadata": {},
   "source": [
    "### Connect to the database\n",
    "\n",
    "Let us first load the SQL extension and establish a connection with the database\n"
   ]
  },
  {
   "cell_type": "code",
   "execution_count": 8,
   "metadata": {},
   "outputs": [
    {
     "name": "stdout",
     "output_type": "stream",
     "text": [
      "The sql extension is already loaded. To reload it, use:\n",
      "  %reload_ext sql\n"
     ]
    }
   ],
   "source": [
    "%load_ext sql"
   ]
  },
  {
   "cell_type": "code",
   "execution_count": 9,
   "metadata": {},
   "outputs": [],
   "source": [
    "import csv, sqlite3\n",
    "\n",
    "con = sqlite3.connect(\"my_data1.db\")\n",
    "cur = con.cursor()"
   ]
  },
  {
   "cell_type": "code",
   "execution_count": 10,
   "metadata": {},
   "outputs": [],
   "source": [
    "!pip install -q pandas==1.1.5"
   ]
  },
  {
   "cell_type": "code",
   "execution_count": 11,
   "metadata": {},
   "outputs": [
    {
     "data": {
      "text/plain": [
       "'Connected: @my_data1.db'"
      ]
     },
     "execution_count": 11,
     "metadata": {},
     "output_type": "execute_result"
    }
   ],
   "source": [
    "%sql sqlite:///my_data1.db"
   ]
  },
  {
   "cell_type": "code",
   "execution_count": 12,
   "metadata": {},
   "outputs": [],
   "source": [
    "import pandas as pd\n",
    "df = pd.read_csv(\"https://cf-courses-data.s3.us.cloud-object-storage.appdomain.cloud/IBM-DS0321EN-SkillsNetwork/labs/module_2/data/Spacex.csv\")\n",
    "df.to_sql(\"SPACEXTBL\", con, if_exists='replace', index=False,method=\"multi\")"
   ]
  },
  {
   "cell_type": "code",
   "execution_count": null,
   "metadata": {},
   "outputs": [
    {
     "ename": "ModuleNotFoundError",
     "evalue": "No module named 'pandas.io.formats.string'",
     "output_type": "error",
     "traceback": [
      "\u001b[0;31m---------------------------------------------------------------------------\u001b[0m",
      "\u001b[0;31mModuleNotFoundError\u001b[0m                       Traceback (most recent call last)",
      "\u001b[0;32m~/conda/envs/python/lib/python3.7/site-packages/IPython/core/formatters.py\u001b[0m in \u001b[0;36m__call__\u001b[0;34m(self, obj)\u001b[0m\n\u001b[1;32m    700\u001b[0m                 \u001b[0mtype_pprinters\u001b[0m\u001b[0;34m=\u001b[0m\u001b[0mself\u001b[0m\u001b[0;34m.\u001b[0m\u001b[0mtype_printers\u001b[0m\u001b[0;34m,\u001b[0m\u001b[0;34m\u001b[0m\u001b[0;34m\u001b[0m\u001b[0m\n\u001b[1;32m    701\u001b[0m                 deferred_pprinters=self.deferred_printers)\n\u001b[0;32m--> 702\u001b[0;31m             \u001b[0mprinter\u001b[0m\u001b[0;34m.\u001b[0m\u001b[0mpretty\u001b[0m\u001b[0;34m(\u001b[0m\u001b[0mobj\u001b[0m\u001b[0;34m)\u001b[0m\u001b[0;34m\u001b[0m\u001b[0;34m\u001b[0m\u001b[0m\n\u001b[0m\u001b[1;32m    703\u001b[0m             \u001b[0mprinter\u001b[0m\u001b[0;34m.\u001b[0m\u001b[0mflush\u001b[0m\u001b[0;34m(\u001b[0m\u001b[0;34m)\u001b[0m\u001b[0;34m\u001b[0m\u001b[0;34m\u001b[0m\u001b[0m\n\u001b[1;32m    704\u001b[0m             \u001b[0;32mreturn\u001b[0m \u001b[0mstream\u001b[0m\u001b[0;34m.\u001b[0m\u001b[0mgetvalue\u001b[0m\u001b[0;34m(\u001b[0m\u001b[0;34m)\u001b[0m\u001b[0;34m\u001b[0m\u001b[0;34m\u001b[0m\u001b[0m\n",
      "\u001b[0;32m~/conda/envs/python/lib/python3.7/site-packages/IPython/lib/pretty.py\u001b[0m in \u001b[0;36mpretty\u001b[0;34m(self, obj)\u001b[0m\n\u001b[1;32m    392\u001b[0m                         \u001b[0;32mif\u001b[0m \u001b[0mcls\u001b[0m \u001b[0;32mis\u001b[0m \u001b[0;32mnot\u001b[0m \u001b[0mobject\u001b[0m\u001b[0;31m \u001b[0m\u001b[0;31m\\\u001b[0m\u001b[0;34m\u001b[0m\u001b[0;34m\u001b[0m\u001b[0m\n\u001b[1;32m    393\u001b[0m                                 \u001b[0;32mand\u001b[0m \u001b[0mcallable\u001b[0m\u001b[0;34m(\u001b[0m\u001b[0mcls\u001b[0m\u001b[0;34m.\u001b[0m\u001b[0m__dict__\u001b[0m\u001b[0;34m.\u001b[0m\u001b[0mget\u001b[0m\u001b[0;34m(\u001b[0m\u001b[0;34m'__repr__'\u001b[0m\u001b[0;34m)\u001b[0m\u001b[0;34m)\u001b[0m\u001b[0;34m:\u001b[0m\u001b[0;34m\u001b[0m\u001b[0;34m\u001b[0m\u001b[0m\n\u001b[0;32m--> 394\u001b[0;31m                             \u001b[0;32mreturn\u001b[0m \u001b[0m_repr_pprint\u001b[0m\u001b[0;34m(\u001b[0m\u001b[0mobj\u001b[0m\u001b[0;34m,\u001b[0m \u001b[0mself\u001b[0m\u001b[0;34m,\u001b[0m \u001b[0mcycle\u001b[0m\u001b[0;34m)\u001b[0m\u001b[0;34m\u001b[0m\u001b[0;34m\u001b[0m\u001b[0m\n\u001b[0m\u001b[1;32m    395\u001b[0m \u001b[0;34m\u001b[0m\u001b[0m\n\u001b[1;32m    396\u001b[0m             \u001b[0;32mreturn\u001b[0m \u001b[0m_default_pprint\u001b[0m\u001b[0;34m(\u001b[0m\u001b[0mobj\u001b[0m\u001b[0;34m,\u001b[0m \u001b[0mself\u001b[0m\u001b[0;34m,\u001b[0m \u001b[0mcycle\u001b[0m\u001b[0;34m)\u001b[0m\u001b[0;34m\u001b[0m\u001b[0;34m\u001b[0m\u001b[0m\n",
      "\u001b[0;32m~/conda/envs/python/lib/python3.7/site-packages/IPython/lib/pretty.py\u001b[0m in \u001b[0;36m_repr_pprint\u001b[0;34m(obj, p, cycle)\u001b[0m\n\u001b[1;32m    698\u001b[0m     \u001b[0;34m\"\"\"A pprint that just redirects to the normal repr function.\"\"\"\u001b[0m\u001b[0;34m\u001b[0m\u001b[0;34m\u001b[0m\u001b[0m\n\u001b[1;32m    699\u001b[0m     \u001b[0;31m# Find newlines and replace them with p.break_()\u001b[0m\u001b[0;34m\u001b[0m\u001b[0;34m\u001b[0m\u001b[0;34m\u001b[0m\u001b[0m\n\u001b[0;32m--> 700\u001b[0;31m     \u001b[0moutput\u001b[0m \u001b[0;34m=\u001b[0m \u001b[0mrepr\u001b[0m\u001b[0;34m(\u001b[0m\u001b[0mobj\u001b[0m\u001b[0;34m)\u001b[0m\u001b[0;34m\u001b[0m\u001b[0;34m\u001b[0m\u001b[0m\n\u001b[0m\u001b[1;32m    701\u001b[0m     \u001b[0mlines\u001b[0m \u001b[0;34m=\u001b[0m \u001b[0moutput\u001b[0m\u001b[0;34m.\u001b[0m\u001b[0msplitlines\u001b[0m\u001b[0;34m(\u001b[0m\u001b[0;34m)\u001b[0m\u001b[0;34m\u001b[0m\u001b[0;34m\u001b[0m\u001b[0m\n\u001b[1;32m    702\u001b[0m     \u001b[0;32mwith\u001b[0m \u001b[0mp\u001b[0m\u001b[0;34m.\u001b[0m\u001b[0mgroup\u001b[0m\u001b[0;34m(\u001b[0m\u001b[0;34m)\u001b[0m\u001b[0;34m:\u001b[0m\u001b[0;34m\u001b[0m\u001b[0;34m\u001b[0m\u001b[0m\n",
      "\u001b[0;32m~/conda/envs/python/lib/python3.7/site-packages/pandas/core/frame.py\u001b[0m in \u001b[0;36m__repr__\u001b[0;34m(self)\u001b[0m\n\u001b[1;32m   1000\u001b[0m            \u001b[0mint64\u001b[0m\u001b[0;34m\u001b[0m\u001b[0;34m\u001b[0m\u001b[0m\n\u001b[1;32m   1001\u001b[0m \u001b[0;34m\u001b[0m\u001b[0m\n\u001b[0;32m-> 1002\u001b[0;31m            \u001b[0mTo\u001b[0m \u001b[0mpreserve\u001b[0m \u001b[0mdtypes\u001b[0m \u001b[0;32mwhile\u001b[0m \u001b[0miterating\u001b[0m \u001b[0mover\u001b[0m \u001b[0mthe\u001b[0m \u001b[0mrows\u001b[0m\u001b[0;34m,\u001b[0m \u001b[0mit\u001b[0m \u001b[0;32mis\u001b[0m \u001b[0mbetter\u001b[0m\u001b[0;34m\u001b[0m\u001b[0;34m\u001b[0m\u001b[0m\n\u001b[0m\u001b[1;32m   1003\u001b[0m            \u001b[0mto\u001b[0m \u001b[0muse\u001b[0m \u001b[0;34m:\u001b[0m\u001b[0mmeth\u001b[0m\u001b[0;34m:\u001b[0m\u001b[0;31m`\u001b[0m\u001b[0mitertuples\u001b[0m\u001b[0;31m`\u001b[0m \u001b[0mwhich\u001b[0m \u001b[0mreturns\u001b[0m \u001b[0mnamedtuples\u001b[0m \u001b[0mof\u001b[0m \u001b[0mthe\u001b[0m \u001b[0mvalues\u001b[0m\u001b[0;34m\u001b[0m\u001b[0;34m\u001b[0m\u001b[0m\n\u001b[1;32m   1004\u001b[0m            \u001b[0;32mand\u001b[0m \u001b[0mwhich\u001b[0m \u001b[0;32mis\u001b[0m \u001b[0mgenerally\u001b[0m \u001b[0mfaster\u001b[0m \u001b[0mthan\u001b[0m\u001b[0;31m \u001b[0m\u001b[0;31m`\u001b[0m\u001b[0;31m`\u001b[0m\u001b[0miterrows\u001b[0m\u001b[0;31m`\u001b[0m\u001b[0;31m`\u001b[0m\u001b[0;34m.\u001b[0m\u001b[0;34m\u001b[0m\u001b[0;34m\u001b[0m\u001b[0m\n",
      "\u001b[0;32m~/conda/envs/python/lib/python3.7/site-packages/pandas/core/frame.py\u001b[0m in \u001b[0;36mto_string\u001b[0;34m(self, buf, columns, col_space, header, index, na_rep, formatters, float_format, sparsify, index_names, justify, max_rows, min_rows, max_cols, show_dimensions, decimal, line_width, max_colwidth, encoding)\u001b[0m\n\u001b[1;32m   1132\u001b[0m         \u001b[0mThe\u001b[0m \u001b[0mdimensions\u001b[0m \u001b[0mof\u001b[0m \u001b[0mDataFrame\u001b[0m \u001b[0;32mand\u001b[0m \u001b[0mother\u001b[0m \u001b[0mmust\u001b[0m \u001b[0mbe\u001b[0m \u001b[0mcompatible\u001b[0m \u001b[0;32min\u001b[0m \u001b[0morder\u001b[0m \u001b[0mto\u001b[0m\u001b[0;34m\u001b[0m\u001b[0;34m\u001b[0m\u001b[0m\n\u001b[1;32m   1133\u001b[0m         \u001b[0mcompute\u001b[0m \u001b[0mthe\u001b[0m \u001b[0mmatrix\u001b[0m \u001b[0mmultiplication\u001b[0m\u001b[0;34m.\u001b[0m \u001b[0mIn\u001b[0m \u001b[0maddition\u001b[0m\u001b[0;34m,\u001b[0m \u001b[0mthe\u001b[0m \u001b[0mcolumn\u001b[0m \u001b[0mnames\u001b[0m \u001b[0mof\u001b[0m\u001b[0;34m\u001b[0m\u001b[0;34m\u001b[0m\u001b[0m\n\u001b[0;32m-> 1134\u001b[0;31m         \u001b[0mDataFrame\u001b[0m \u001b[0;32mand\u001b[0m \u001b[0mthe\u001b[0m \u001b[0mindex\u001b[0m \u001b[0mof\u001b[0m \u001b[0mother\u001b[0m \u001b[0mmust\u001b[0m \u001b[0mcontain\u001b[0m \u001b[0mthe\u001b[0m \u001b[0msame\u001b[0m \u001b[0mvalues\u001b[0m\u001b[0;34m,\u001b[0m \u001b[0;32mas\u001b[0m \u001b[0mthey\u001b[0m\u001b[0;34m\u001b[0m\u001b[0;34m\u001b[0m\u001b[0m\n\u001b[0m\u001b[1;32m   1135\u001b[0m         \u001b[0mwill\u001b[0m \u001b[0mbe\u001b[0m \u001b[0maligned\u001b[0m \u001b[0mprior\u001b[0m \u001b[0mto\u001b[0m \u001b[0mthe\u001b[0m \u001b[0mmultiplication\u001b[0m\u001b[0;34m.\u001b[0m\u001b[0;34m\u001b[0m\u001b[0;34m\u001b[0m\u001b[0m\n\u001b[1;32m   1136\u001b[0m \u001b[0;34m\u001b[0m\u001b[0m\n",
      "\u001b[0;32m~/conda/envs/python/lib/python3.7/site-packages/pandas/io/formats/format.py\u001b[0m in \u001b[0;36mto_string\u001b[0;34m(self, buf, encoding, line_width)\u001b[0m\n\u001b[1;32m   1048\u001b[0m \u001b[0;34m\u001b[0m\u001b[0m\n\u001b[1;32m   1049\u001b[0m     \u001b[0;32mdef\u001b[0m \u001b[0m_get_formatted_index\u001b[0m\u001b[0;34m(\u001b[0m\u001b[0mself\u001b[0m\u001b[0;34m,\u001b[0m \u001b[0mframe\u001b[0m\u001b[0;34m:\u001b[0m \u001b[0;34m\"DataFrame\"\u001b[0m\u001b[0;34m)\u001b[0m \u001b[0;34m->\u001b[0m \u001b[0mList\u001b[0m\u001b[0;34m[\u001b[0m\u001b[0mstr\u001b[0m\u001b[0;34m]\u001b[0m\u001b[0;34m:\u001b[0m\u001b[0;34m\u001b[0m\u001b[0;34m\u001b[0m\u001b[0m\n\u001b[0;32m-> 1050\u001b[0;31m         \u001b[0;31m# Note: this is only used by to_string() and to_latex(), not by\u001b[0m\u001b[0;34m\u001b[0m\u001b[0;34m\u001b[0m\u001b[0;34m\u001b[0m\u001b[0m\n\u001b[0m\u001b[1;32m   1051\u001b[0m         \u001b[0;31m# to_html(). so safe to cast col_space here.\u001b[0m\u001b[0;34m\u001b[0m\u001b[0;34m\u001b[0m\u001b[0;34m\u001b[0m\u001b[0m\n\u001b[1;32m   1052\u001b[0m         \u001b[0mcol_space\u001b[0m \u001b[0;34m=\u001b[0m \u001b[0;34m{\u001b[0m\u001b[0mk\u001b[0m\u001b[0;34m:\u001b[0m \u001b[0mcast\u001b[0m\u001b[0;34m(\u001b[0m\u001b[0mint\u001b[0m\u001b[0;34m,\u001b[0m \u001b[0mv\u001b[0m\u001b[0;34m)\u001b[0m \u001b[0;32mfor\u001b[0m \u001b[0mk\u001b[0m\u001b[0;34m,\u001b[0m \u001b[0mv\u001b[0m \u001b[0;32min\u001b[0m \u001b[0mself\u001b[0m\u001b[0;34m.\u001b[0m\u001b[0mcol_space\u001b[0m\u001b[0;34m.\u001b[0m\u001b[0mitems\u001b[0m\u001b[0;34m(\u001b[0m\u001b[0;34m)\u001b[0m\u001b[0;34m}\u001b[0m\u001b[0;34m\u001b[0m\u001b[0;34m\u001b[0m\u001b[0m\n",
      "\u001b[0;31mModuleNotFoundError\u001b[0m: No module named 'pandas.io.formats.string'"
     ]
    },
    {
     "ename": "ImportError",
     "evalue": "cannot import name 'TableFormatter' from 'pandas.io.formats.format' (/home/jupyterlab/conda/envs/python/lib/python3.7/site-packages/pandas/io/formats/format.py)",
     "output_type": "error",
     "traceback": [
      "\u001b[0;31m---------------------------------------------------------------------------\u001b[0m",
      "\u001b[0;31mImportError\u001b[0m                               Traceback (most recent call last)",
      "\u001b[0;32m~/conda/envs/python/lib/python3.7/site-packages/IPython/core/formatters.py\u001b[0m in \u001b[0;36m__call__\u001b[0;34m(self, obj)\u001b[0m\n\u001b[1;32m    343\u001b[0m             \u001b[0mmethod\u001b[0m \u001b[0;34m=\u001b[0m \u001b[0mget_real_method\u001b[0m\u001b[0;34m(\u001b[0m\u001b[0mobj\u001b[0m\u001b[0;34m,\u001b[0m \u001b[0mself\u001b[0m\u001b[0;34m.\u001b[0m\u001b[0mprint_method\u001b[0m\u001b[0;34m)\u001b[0m\u001b[0;34m\u001b[0m\u001b[0;34m\u001b[0m\u001b[0m\n\u001b[1;32m    344\u001b[0m             \u001b[0;32mif\u001b[0m \u001b[0mmethod\u001b[0m \u001b[0;32mis\u001b[0m \u001b[0;32mnot\u001b[0m \u001b[0;32mNone\u001b[0m\u001b[0;34m:\u001b[0m\u001b[0;34m\u001b[0m\u001b[0;34m\u001b[0m\u001b[0m\n\u001b[0;32m--> 345\u001b[0;31m                 \u001b[0;32mreturn\u001b[0m \u001b[0mmethod\u001b[0m\u001b[0;34m(\u001b[0m\u001b[0;34m)\u001b[0m\u001b[0;34m\u001b[0m\u001b[0;34m\u001b[0m\u001b[0m\n\u001b[0m\u001b[1;32m    346\u001b[0m             \u001b[0;32mreturn\u001b[0m \u001b[0;32mNone\u001b[0m\u001b[0;34m\u001b[0m\u001b[0;34m\u001b[0m\u001b[0m\n\u001b[1;32m    347\u001b[0m         \u001b[0;32melse\u001b[0m\u001b[0;34m:\u001b[0m\u001b[0;34m\u001b[0m\u001b[0;34m\u001b[0m\u001b[0m\n",
      "\u001b[0;32m~/conda/envs/python/lib/python3.7/site-packages/pandas/core/frame.py\u001b[0m in \u001b[0;36m_repr_html_\u001b[0;34m(self)\u001b[0m\n\u001b[1;32m   1045\u001b[0m         \u001b[0minvalid\u001b[0m \u001b[0mPython\u001b[0m \u001b[0midentifiers\u001b[0m\u001b[0;34m,\u001b[0m \u001b[0mrepeated\u001b[0m\u001b[0;34m,\u001b[0m \u001b[0;32mor\u001b[0m \u001b[0mstart\u001b[0m \u001b[0;32mwith\u001b[0m \u001b[0man\u001b[0m \u001b[0munderscore\u001b[0m\u001b[0;34m.\u001b[0m\u001b[0;34m\u001b[0m\u001b[0;34m\u001b[0m\u001b[0m\n\u001b[1;32m   1046\u001b[0m         \u001b[0mOn\u001b[0m \u001b[0mpython\u001b[0m \u001b[0mversions\u001b[0m \u001b[0;34m<\u001b[0m \u001b[0;36m3.7\u001b[0m \u001b[0mregular\u001b[0m \u001b[0mtuples\u001b[0m \u001b[0mare\u001b[0m \u001b[0mreturned\u001b[0m \u001b[0;32mfor\u001b[0m \u001b[0mDataFrames\u001b[0m\u001b[0;34m\u001b[0m\u001b[0;34m\u001b[0m\u001b[0m\n\u001b[0;32m-> 1047\u001b[0;31m         \u001b[0;32mwith\u001b[0m \u001b[0ma\u001b[0m \u001b[0mlarge\u001b[0m \u001b[0mnumber\u001b[0m \u001b[0mof\u001b[0m \u001b[0mcolumns\u001b[0m \u001b[0;34m(\u001b[0m\u001b[0;34m>\u001b[0m\u001b[0;36m254\u001b[0m\u001b[0;34m)\u001b[0m\u001b[0;34m.\u001b[0m\u001b[0;34m\u001b[0m\u001b[0;34m\u001b[0m\u001b[0m\n\u001b[0m\u001b[1;32m   1048\u001b[0m \u001b[0;34m\u001b[0m\u001b[0m\n\u001b[1;32m   1049\u001b[0m         \u001b[0mExamples\u001b[0m\u001b[0;34m\u001b[0m\u001b[0;34m\u001b[0m\u001b[0m\n",
      "\u001b[0;32m~/conda/envs/python/lib/python3.7/site-packages/pandas/io/formats/format.py\u001b[0m in \u001b[0;36mto_html\u001b[0;34m(self, buf, encoding, classes, notebook, border, table_id, render_links)\u001b[0m\n\u001b[1;32m   1013\u001b[0m                 \u001b[0;32mreturn\u001b[0m \u001b[0my\u001b[0m\u001b[0;34m\u001b[0m\u001b[0;34m\u001b[0m\u001b[0m\n\u001b[1;32m   1014\u001b[0m \u001b[0;34m\u001b[0m\u001b[0m\n\u001b[0;32m-> 1015\u001b[0;31m             str_columns = list(\n\u001b[0m\u001b[1;32m   1016\u001b[0m                 \u001b[0mzip\u001b[0m\u001b[0;34m(\u001b[0m\u001b[0;34m*\u001b[0m\u001b[0;34m[\u001b[0m\u001b[0;34m[\u001b[0m\u001b[0mspace_format\u001b[0m\u001b[0;34m(\u001b[0m\u001b[0mx\u001b[0m\u001b[0;34m,\u001b[0m \u001b[0my\u001b[0m\u001b[0;34m)\u001b[0m \u001b[0;32mfor\u001b[0m \u001b[0my\u001b[0m \u001b[0;32min\u001b[0m \u001b[0mx\u001b[0m\u001b[0;34m]\u001b[0m \u001b[0;32mfor\u001b[0m \u001b[0mx\u001b[0m \u001b[0;32min\u001b[0m \u001b[0mfmt_columns\u001b[0m\u001b[0;34m]\u001b[0m\u001b[0;34m)\u001b[0m\u001b[0;34m\u001b[0m\u001b[0;34m\u001b[0m\u001b[0m\n\u001b[1;32m   1017\u001b[0m             )\n",
      "\u001b[0;32m~/conda/envs/python/lib/python3.7/site-packages/pandas/io/formats/html.py\u001b[0m in \u001b[0;36m<module>\u001b[0;34m\u001b[0m\n\u001b[1;32m     13\u001b[0m \u001b[0;34m\u001b[0m\u001b[0m\n\u001b[1;32m     14\u001b[0m \u001b[0;32mfrom\u001b[0m \u001b[0mpandas\u001b[0m\u001b[0;34m.\u001b[0m\u001b[0mio\u001b[0m\u001b[0;34m.\u001b[0m\u001b[0mcommon\u001b[0m \u001b[0;32mimport\u001b[0m \u001b[0mis_url\u001b[0m\u001b[0;34m\u001b[0m\u001b[0;34m\u001b[0m\u001b[0m\n\u001b[0;32m---> 15\u001b[0;31m from pandas.io.formats.format import (\n\u001b[0m\u001b[1;32m     16\u001b[0m     \u001b[0mDataFrameFormatter\u001b[0m\u001b[0;34m,\u001b[0m\u001b[0;34m\u001b[0m\u001b[0;34m\u001b[0m\u001b[0m\n\u001b[1;32m     17\u001b[0m     \u001b[0mTableFormatter\u001b[0m\u001b[0;34m,\u001b[0m\u001b[0;34m\u001b[0m\u001b[0;34m\u001b[0m\u001b[0m\n",
      "\u001b[0;31mImportError\u001b[0m: cannot import name 'TableFormatter' from 'pandas.io.formats.format' (/home/jupyterlab/conda/envs/python/lib/python3.7/site-packages/pandas/io/formats/format.py)"
     ]
    }
   ],
   "source": [
    "df"
   ]
  },
  {
   "cell_type": "markdown",
   "metadata": {},
   "source": [
    "## Tasks\n",
    "\n",
    "Now write and execute SQL queries to solve the assignment tasks.\n",
    "\n",
    "**Note: If the column names are in mixed case enclose it in double quotes\n",
    "For Example \"Landing_Outcome\"**\n",
    "\n",
    "### Task 1\n",
    "\n",
    "##### Display the names of the unique launch sites  in the space mission\n"
   ]
  },
  {
   "cell_type": "code",
   "execution_count": 16,
   "metadata": {},
   "outputs": [
    {
     "data": {
      "text/plain": [
       "[('CCAFS LC-40',), ('VAFB SLC-4E',), ('KSC LC-39A',), ('CCAFS SLC-40',)]"
      ]
     },
     "execution_count": 16,
     "metadata": {},
     "output_type": "execute_result"
    }
   ],
   "source": [
    "# -- %sql select Unique(LAUNCH_SITE) from SPACEXTBL;\n",
    "cur.execute(\"select DISTINCT LAUNCH_SITE from SPACEXTBL\")\n",
    "cur.fetchall()"
   ]
  },
  {
   "cell_type": "markdown",
   "metadata": {},
   "source": [
    "### Task 2\n",
    "\n",
    "##### Display 5 records where launch sites begin with the string 'CCA'\n"
   ]
  },
  {
   "cell_type": "code",
   "execution_count": 17,
   "metadata": {},
   "outputs": [
    {
     "data": {
      "text/plain": [
       "[('CCAFS LC-40',),\n",
       " ('CCAFS LC-40',),\n",
       " ('CCAFS LC-40',),\n",
       " ('CCAFS LC-40',),\n",
       " ('CCAFS LC-40',)]"
      ]
     },
     "execution_count": 17,
     "metadata": {},
     "output_type": "execute_result"
    }
   ],
   "source": [
    "cur.execute(\"SELECT LAUNCH_SITE from SPACEXTBL where (LAUNCH_SITE) LIKE 'CCA%' LIMIT 5\")\n",
    "cur.fetchall()"
   ]
  },
  {
   "cell_type": "markdown",
   "metadata": {},
   "source": [
    "### Task 3\n",
    "\n",
    "##### Display the total payload mass carried by boosters launched by NASA (CRS)\n"
   ]
  },
  {
   "cell_type": "code",
   "execution_count": 18,
   "metadata": {},
   "outputs": [
    {
     "data": {
      "text/plain": [
       "[(619967,)]"
      ]
     },
     "execution_count": 18,
     "metadata": {},
     "output_type": "execute_result"
    }
   ],
   "source": [
    "cur.execute(\"select sum(PAYLOAD_MASS__KG_) as payloadmass from SPACEXTBL\")\n",
    "cur.fetchall()"
   ]
  },
  {
   "cell_type": "markdown",
   "metadata": {},
   "source": [
    "### Task 4\n",
    "\n",
    "##### Display average payload mass carried by booster version F9 v1.1\n"
   ]
  },
  {
   "cell_type": "code",
   "execution_count": 19,
   "metadata": {},
   "outputs": [
    {
     "data": {
      "text/plain": [
       "[(6138.287128712871,)]"
      ]
     },
     "execution_count": 19,
     "metadata": {},
     "output_type": "execute_result"
    }
   ],
   "source": [
    "cur.execute(\"select avg(PAYLOAD_MASS__KG_) as payloadmass from SPACEXTBL\")\n",
    "cur.fetchall()"
   ]
  },
  {
   "cell_type": "markdown",
   "metadata": {},
   "source": [
    "### Task 5\n",
    "\n",
    "##### List the date when the first succesful landing outcome in ground pad was acheived.\n",
    "\n",
    "*Hint:Use min function*\n"
   ]
  },
  {
   "cell_type": "code",
   "execution_count": 20,
   "metadata": {},
   "outputs": [
    {
     "data": {
      "text/plain": [
       "[('01-03-2013',)]"
      ]
     },
     "execution_count": 20,
     "metadata": {},
     "output_type": "execute_result"
    }
   ],
   "source": [
    "cur.execute(\"select min(DATE) from SPACEXTBL\")\n",
    "cur.fetchall()"
   ]
  },
  {
   "cell_type": "markdown",
   "metadata": {},
   "source": [
    "### Task 6\n",
    "\n",
    "##### List the names of the boosters which have success in drone ship and have payload mass greater than 4000 but less than 6000\n"
   ]
  },
  {
   "cell_type": "code",
   "execution_count": 29,
   "metadata": {},
   "outputs": [
    {
     "data": {
      "text/plain": [
       "[('F9 v1.1',),\n",
       " ('F9 v1.1 B1011',),\n",
       " ('F9 v1.1 B1014',),\n",
       " ('F9 v1.1 B1016',),\n",
       " ('F9 FT B1020',),\n",
       " ('F9 FT B1022',),\n",
       " ('F9 FT B1026',),\n",
       " ('F9 FT B1030',),\n",
       " ('F9 FT  B1021.2',),\n",
       " ('F9 FT B1032.1',),\n",
       " ('F9 B4 B1040.1',),\n",
       " ('F9 FT  B1031.2',),\n",
       " ('F9 B4 B1043.1',),\n",
       " ('F9 FT  B1032.2',),\n",
       " ('F9 B4  B1040.2',),\n",
       " ('F9 B5 B1046.2',),\n",
       " ('F9 B5 B1047.2',),\n",
       " ('F9 B5 B1046.3',),\n",
       " ('F9 B5B1054',),\n",
       " ('F9 B5 B1048.3',),\n",
       " ('F9 B5 B1051.2 ',),\n",
       " ('F9 B5B1060.1',),\n",
       " ('F9 B5 B1058.2 ',),\n",
       " ('F9 B5B1062.1',)]"
      ]
     },
     "execution_count": 29,
     "metadata": {},
     "output_type": "execute_result"
    }
   ],
   "source": [
    "cur.execute(\"select BOOSTER_VERSION from SPACEXTBL where PAYLOAD_MASS__KG_ BETWEEN 4000 and 6000\")\n",
    "cur.fetchall()"
   ]
  },
  {
   "cell_type": "markdown",
   "metadata": {},
   "source": [
    "### Task 7\n",
    "\n",
    "##### List the total number of successful and failure mission outcomes\n"
   ]
  },
  {
   "cell_type": "code",
   "execution_count": 30,
   "metadata": {},
   "outputs": [
    {
     "data": {
      "text/plain": [
       "[(1,), (98,), (1,), (1,)]"
      ]
     },
     "execution_count": 30,
     "metadata": {},
     "output_type": "execute_result"
    }
   ],
   "source": [
    "cur.execute(\"select count(MISSION_OUTCOME) as missionoutcomes from SPACEXTBL GROUP BY MISSION_OUTCOME\")\n",
    "cur.fetchall()"
   ]
  },
  {
   "cell_type": "markdown",
   "metadata": {},
   "source": [
    "### Task 8\n",
    "\n",
    "##### List the   names of the booster_versions which have carried the maximum payload mass. Use a subquery\n"
   ]
  },
  {
   "cell_type": "code",
   "execution_count": 31,
   "metadata": {},
   "outputs": [
    {
     "data": {
      "text/plain": [
       "[('F9 B5 B1048.4',),\n",
       " ('F9 B5 B1049.4',),\n",
       " ('F9 B5 B1051.3',),\n",
       " ('F9 B5 B1056.4',),\n",
       " ('F9 B5 B1048.5',),\n",
       " ('F9 B5 B1051.4',),\n",
       " ('F9 B5 B1049.5',),\n",
       " ('F9 B5 B1060.2 ',),\n",
       " ('F9 B5 B1058.3 ',),\n",
       " ('F9 B5 B1051.6',),\n",
       " ('F9 B5 B1060.3',),\n",
       " ('F9 B5 B1049.7 ',)]"
      ]
     },
     "execution_count": 31,
     "metadata": {},
     "output_type": "execute_result"
    }
   ],
   "source": [
    "cur.execute(\"select BOOSTER_VERSION as boosterversion from SPACEXTBL where PAYLOAD_MASS__KG_=(select max(PAYLOAD_MASS__KG_) from SPACEXTBL)\")\n",
    "cur.fetchall()"
   ]
  },
  {
   "cell_type": "markdown",
   "metadata": {},
   "source": [
    "### Task 9\n",
    "\n",
    "##### List the records which will display the month names, failure landing_outcomes in drone ship ,booster versions, launch_site for the months in year 2015.\n",
    "\n",
    "**Note: SQLLite does not support monthnames. So you need to use  substr(Date, 4, 2) as month to get the months and substr(Date,7,4)='2015' for year.**\n"
   ]
  },
  {
   "cell_type": "code",
   "execution_count": 48,
   "metadata": {},
   "outputs": [
    {
     "data": {
      "text/plain": [
       "[('Success', 'F9 v1.0  B0003', 'CCAFS LC-40'),\n",
       " ('Success', 'F9 v1.0  B0004', 'CCAFS LC-40'),\n",
       " ('Success', 'F9 v1.0  B0005', 'CCAFS LC-40'),\n",
       " ('Success', 'F9 v1.0  B0006', 'CCAFS LC-40'),\n",
       " ('Success', 'F9 v1.0  B0007', 'CCAFS LC-40'),\n",
       " ('Success', 'F9 v1.1  B1003', 'VAFB SLC-4E'),\n",
       " ('Success', 'F9 v1.1', 'CCAFS LC-40'),\n",
       " ('Success', 'F9 v1.1', 'CCAFS LC-40'),\n",
       " ('Success', 'F9 v1.1', 'CCAFS LC-40'),\n",
       " ('Success', 'F9 v1.1', 'CCAFS LC-40'),\n",
       " ('Success', 'F9 v1.1', 'CCAFS LC-40'),\n",
       " ('Success', 'F9 v1.1 B1011', 'CCAFS LC-40'),\n",
       " ('Success', 'F9 v1.1 B1010', 'CCAFS LC-40'),\n",
       " ('Success', 'F9 v1.1 B1012', 'CCAFS LC-40'),\n",
       " ('Success', 'F9 v1.1 B1013', 'CCAFS LC-40'),\n",
       " ('Success', 'F9 v1.1 B1014', 'CCAFS LC-40'),\n",
       " ('Success', 'F9 v1.1 B1015', 'CCAFS LC-40'),\n",
       " ('Success', 'F9 v1.1 B1016', 'CCAFS LC-40'),\n",
       " ('Failure (in flight)', 'F9 v1.1 B1018', 'CCAFS LC-40'),\n",
       " ('Success', 'F9 FT B1019', 'CCAFS LC-40'),\n",
       " ('Success', 'F9 v1.1 B1017', 'VAFB SLC-4E'),\n",
       " ('Success', 'F9 FT B1020', 'CCAFS LC-40'),\n",
       " ('Success', 'F9 FT B1021.1', 'CCAFS LC-40'),\n",
       " ('Success', 'F9 FT B1022', 'CCAFS LC-40'),\n",
       " ('Success', 'F9 FT B1023.1', 'CCAFS LC-40'),\n",
       " ('Success', 'F9 FT B1024', 'CCAFS LC-40'),\n",
       " ('Success', 'F9 FT B1025.1', 'CCAFS LC-40'),\n",
       " ('Success', 'F9 FT B1026', 'CCAFS LC-40'),\n",
       " ('Success', 'F9 FT B1029.1', 'VAFB SLC-4E'),\n",
       " ('Success', 'F9 FT B1031.1', 'KSC LC-39A'),\n",
       " ('Success', 'F9 FT B1030', 'KSC LC-39A'),\n",
       " ('Success', 'F9 FT  B1021.2', 'KSC LC-39A'),\n",
       " ('Success', 'F9 FT B1032.1', 'KSC LC-39A'),\n",
       " ('Success', 'F9 FT B1034', 'KSC LC-39A'),\n",
       " ('Success', 'F9 FT B1035.1', 'KSC LC-39A'),\n",
       " ('Success', 'F9 FT  B1029.2', 'KSC LC-39A'),\n",
       " ('Success', 'F9 FT B1036.1', 'VAFB SLC-4E'),\n",
       " ('Success', 'F9 FT B1037', 'KSC LC-39A'),\n",
       " ('Success', 'F9 B4 B1039.1', 'KSC LC-39A'),\n",
       " ('Success', 'F9 FT B1038.1', 'VAFB SLC-4E'),\n",
       " ('Success', 'F9 B4 B1040.1', 'KSC LC-39A'),\n",
       " ('Success', 'F9 B4 B1041.1', 'VAFB SLC-4E'),\n",
       " ('Success', 'F9 FT  B1031.2', 'KSC LC-39A'),\n",
       " ('Success', 'F9 B4 B1042.1', 'KSC LC-39A'),\n",
       " ('Success', 'F9 FT  B1035.2', 'CCAFS SLC-40'),\n",
       " ('Success', 'F9 FT  B1036.2', 'VAFB SLC-4E'),\n",
       " ('Success (payload status unclear)', 'F9 B4 B1043.1', 'CCAFS SLC-40'),\n",
       " ('Success', 'F9 FT  B1032.2', 'CCAFS SLC-40'),\n",
       " ('Success', 'F9 FT  B1038.2', 'VAFB SLC-4E'),\n",
       " ('Success', 'F9 B4 B1044', 'CCAFS SLC-40'),\n",
       " ('Success', 'F9 B4  B1041.2', 'VAFB SLC-4E'),\n",
       " ('Success', 'F9 B4  B1039.2', 'CCAFS SLC-40'),\n",
       " ('Success', 'F9 B4 B1045.1', 'CCAFS SLC-40'),\n",
       " ('Success', 'F9 B5  B1046.1', 'KSC LC-39A'),\n",
       " ('Success', 'F9 B4  B1043.2', 'VAFB SLC-4E'),\n",
       " ('Success', 'F9 B4  B1040.2', 'CCAFS SLC-40'),\n",
       " ('Success', 'F9 B4 B1045.2', 'CCAFS SLC-40'),\n",
       " ('Success', 'F9 B5B1047.1', 'CCAFS SLC-40'),\n",
       " ('Success', 'F9 B5B1048.1', 'VAFB SLC-4E'),\n",
       " ('Success', 'F9 B5 B1046.2', 'CCAFS SLC-40'),\n",
       " ('Success', 'F9 B5B1049.1', 'CCAFS SLC-40'),\n",
       " ('Success', 'F9 B5 B1048.2', 'VAFB SLC-4E'),\n",
       " ('Success', 'F9 B5 B1047.2', 'KSC LC-39A'),\n",
       " ('Success', 'F9 B5 B1046.3', 'VAFB SLC-4E'),\n",
       " ('Success', 'F9 B5B1050', 'CCAFS SLC-40'),\n",
       " ('Success ', 'F9 B5B1054', 'CCAFS SLC-40'),\n",
       " ('Success', 'F9 B5 B1049.2', 'VAFB SLC-4E'),\n",
       " ('Success', 'F9 B5 B1048.3', 'CCAFS SLC-40'),\n",
       " ('Success', 'F9 B5B1051.1', 'KSC LC-39A'),\n",
       " ('Success', 'F9 B5B1056.1 ', 'CCAFS SLC-40'),\n",
       " ('Success', 'F9 B5 B1049.3', 'CCAFS SLC-40'),\n",
       " ('Success', 'F9 B5 B1051.2 ', 'VAFB SLC-4E'),\n",
       " ('Success', 'F9 B5 B1056.2 ', 'CCAFS SLC-40'),\n",
       " ('Success', 'F9 B5 B1047.3 ', 'CCAFS SLC-40'),\n",
       " ('Success', 'F9 B5 B1048.4', 'CCAFS SLC-40'),\n",
       " ('Success', 'F9 B5B1059.1', 'CCAFS SLC-40'),\n",
       " ('Success', 'F9 B5 B1056.3 ', 'CCAFS SLC-40'),\n",
       " ('Success', 'F9 B5 B1049.4', 'CCAFS SLC-40'),\n",
       " ('Success', 'F9 B5 B1046.4', 'KSC LC-39A'),\n",
       " ('Success', 'F9 B5 B1051.3', 'CCAFS SLC-40'),\n",
       " ('Success', 'F9 B5 B1056.4', 'CCAFS SLC-40'),\n",
       " ('Success', 'F9 B5 B1059.2', 'CCAFS SLC-40'),\n",
       " ('Success', 'F9 B5 B1048.5', 'KSC LC-39A'),\n",
       " ('Success', 'F9 B5 B1051.4', 'KSC LC-39A'),\n",
       " ('Success', 'F9 B5B1058.1 ', 'KSC LC-39A'),\n",
       " ('Success', 'F9 B5 B1049.5', 'CCAFS SLC-40'),\n",
       " ('Success', 'F9 B5 B1059.3', 'CCAFS SLC-40'),\n",
       " ('Success', 'F9 B5B1060.1', 'CCAFS SLC-40'),\n",
       " ('Success', 'F9 B5 B1058.2 ', 'CCAFS SLC-40'),\n",
       " ('Success', 'F9 B5 B1051.5', 'KSC LC-39A'),\n",
       " ('Success', 'F9 B5 B1049.6', 'CCAFS SLC-40'),\n",
       " ('Success', 'F9 B5 B1059.4', 'CCAFS SLC-40'),\n",
       " ('Success', 'F9 B5 B1060.2 ', 'KSC LC-39A'),\n",
       " ('Success', 'F9 B5 B1058.3 ', 'KSC LC-39A'),\n",
       " ('Success', 'F9 B5 B1051.6', 'KSC LC-39A'),\n",
       " ('Success', 'F9 B5 B1060.3', 'CCAFS SLC-40'),\n",
       " ('Success', 'F9 B5B1062.1', 'CCAFS SLC-40'),\n",
       " ('Success', 'F9 B5B1061.1 ', 'KSC LC-39A'),\n",
       " ('Success', 'F9 B5B1063.1', 'VAFB SLC-4E'),\n",
       " ('Success', 'F9 B5 B1049.7 ', 'CCAFS SLC-40'),\n",
       " ('Success', 'F9 B5 B1058.4 ', 'KSC LC-39A')]"
      ]
     },
     "execution_count": 48,
     "metadata": {},
     "output_type": "execute_result"
    }
   ],
   "source": [
    "cur.execute(\"SELECT MISSION_OUTCOME,BOOSTER_VERSION,LAUNCH_SITE from SPACEXTBL where DATE BETWEEN '01-01-2015' AND '31-12-2015'\")\n",
    "cur.fetchall()"
   ]
  },
  {
   "cell_type": "markdown",
   "metadata": {},
   "source": [
    "### Task 10\n",
    "\n",
    "##### Rank the  count of  successful landing_outcomes between the date 04-06-2010 and 20-03-2017 in descending order.\n"
   ]
  },
  {
   "cell_type": "code",
   "execution_count": 52,
   "metadata": {},
   "outputs": [
    {
     "data": {
      "text/plain": [
       "[('19-02-2017',\n",
       "  '14:39:00',\n",
       "  'F9 FT B1031.1',\n",
       "  'KSC LC-39A',\n",
       "  'SpaceX CRS-10',\n",
       "  2490,\n",
       "  'LEO (ISS)',\n",
       "  'NASA (CRS)',\n",
       "  'Success',\n",
       "  'Success (ground pad)'),\n",
       " ('19-01-2020',\n",
       "  '15:30:00',\n",
       "  'F9 B5 B1046.4',\n",
       "  'KSC LC-39A',\n",
       "  'Crew Dragon in-flight abort test, Starlink 3 v1.0 ',\n",
       "  12050,\n",
       "  'Sub-orbital',\n",
       "  'NASA (CTS)',\n",
       "  'Success',\n",
       "  'No attempt'),\n",
       " ('18-10-2020',\n",
       "  '12:25:57',\n",
       "  'F9 B5 B1051.6',\n",
       "  'KSC LC-39A',\n",
       "  'Starlink 13 v1.0, Starlink 14 v1.0 ',\n",
       "  15600,\n",
       "  'LEO',\n",
       "  'SpaceX',\n",
       "  'Success',\n",
       "  'Success'),\n",
       " ('18-08-2020',\n",
       "  '14:31:00',\n",
       "  'F9 B5 B1049.6',\n",
       "  'CCAFS SLC-40',\n",
       "  'Starlink 10 v1.0, SkySat-19, -20, -21, SAOCOM 1B ',\n",
       "  15440,\n",
       "  'LEO',\n",
       "  'SpaceX, Planet Labs, PlanetIQ',\n",
       "  'Success',\n",
       "  'Success'),\n",
       " ('18-07-2016',\n",
       "  '04:45:00',\n",
       "  'F9 FT B1025.1',\n",
       "  'CCAFS LC-40',\n",
       "  'SpaceX CRS-9',\n",
       "  2257,\n",
       "  'LEO (ISS)',\n",
       "  'NASA (CRS)',\n",
       "  'Success',\n",
       "  'Success (ground pad)'),\n",
       " ('18-04-2018',\n",
       "  '22:51:00',\n",
       "  'F9 B4 B1045.1',\n",
       "  'CCAFS SLC-40',\n",
       "  'Transiting Exoplanet Survey Satellite (TESS)',\n",
       "  362,\n",
       "  'HEO',\n",
       "  'NASA (LSP)',\n",
       "  'Success',\n",
       "  'Success (drone ship)'),\n",
       " ('18-04-2014',\n",
       "  '19:25:00',\n",
       "  'F9 v1.1',\n",
       "  'CCAFS LC-40',\n",
       "  'SpaceX CRS-3',\n",
       "  2296,\n",
       "  'LEO (ISS)',\n",
       "  'NASA (CRS)',\n",
       "  'Success',\n",
       "  'Controlled (ocean)'),\n",
       " ('18-03-2020',\n",
       "  '12:16:00',\n",
       "  'F9 B5 B1048.5',\n",
       "  'KSC LC-39A',\n",
       "  'Starlink 5 v1.0, Starlink 6 v1.0 ',\n",
       "  15600,\n",
       "  'LEO',\n",
       "  'SpaceX',\n",
       "  'Success',\n",
       "  'Failure'),\n",
       " ('17-12-2019',\n",
       "  '00:10:00',\n",
       "  'F9 B5 B1056.3 ',\n",
       "  'CCAFS SLC-40',\n",
       "  'JCSat-18 / Kacific 1, Starlink 2 v1.0 ',\n",
       "  6956,\n",
       "  'GTO',\n",
       "  'Sky Perfect JSAT, Kacific 1',\n",
       "  'Success',\n",
       "  'Success'),\n",
       " ('17-02-2020',\n",
       "  '15:05:00',\n",
       "  'F9 B5 B1056.4',\n",
       "  'CCAFS SLC-40',\n",
       "  'Starlink 4 v1.0, SpaceX CRS-20',\n",
       "  15600,\n",
       "  'LEO',\n",
       "  'SpaceX',\n",
       "  'Success',\n",
       "  'Failure'),\n",
       " ('17-01-2016',\n",
       "  '18:42:00',\n",
       "  'F9 v1.1 B1017',\n",
       "  'VAFB SLC-4E',\n",
       "  'Jason-3',\n",
       "  553,\n",
       "  'LEO',\n",
       "  'NASA (LSP) NOAA CNES',\n",
       "  'Success',\n",
       "  'Failure (drone ship)'),\n",
       " ('16-11-2020',\n",
       "  '00:27:00',\n",
       "  'F9 B5B1061.1 ',\n",
       "  'KSC LC-39A',\n",
       "  'Crew-1, Sentinel-6 Michael Freilich ',\n",
       "  12500,\n",
       "  'LEO (ISS)',\n",
       "  'NASA (CCP)',\n",
       "  'Success',\n",
       "  'Success'),\n",
       " ('16-03-2017',\n",
       "  '06:00:00',\n",
       "  'F9 FT B1030',\n",
       "  'KSC LC-39A',\n",
       "  'EchoStar 23',\n",
       "  5600,\n",
       "  'GTO',\n",
       "  'EchoStar',\n",
       "  'Success',\n",
       "  'No attempt'),\n",
       " ('15-12-2017',\n",
       "  '15:36:00',\n",
       "  'F9 FT  B1035.2',\n",
       "  'CCAFS SLC-40',\n",
       "  'SpaceX CRS-13',\n",
       "  2205,\n",
       "  'LEO (ISS)',\n",
       "  'NASA (CRS)',\n",
       "  'Success',\n",
       "  'Success (ground pad)'),\n",
       " ('15-11-2018',\n",
       "  '20:46:00',\n",
       "  'F9 B5 B1047.2',\n",
       "  'KSC LC-39A',\n",
       "  'Es hail 2',\n",
       "  5300,\n",
       "  'GTO',\n",
       "  'Es hailSat',\n",
       "  'Success',\n",
       "  'Success'),\n",
       " ('15-06-2016',\n",
       "  '14:29:00',\n",
       "  'F9 FT B1024',\n",
       "  'CCAFS LC-40',\n",
       "  'ABS-2A Eutelsat 117 West B',\n",
       "  3600,\n",
       "  'GTO',\n",
       "  'ABS Eutelsat',\n",
       "  'Success',\n",
       "  'Failure (drone ship)'),\n",
       " ('15-05-2017',\n",
       "  '23:21:00',\n",
       "  'F9 FT B1034',\n",
       "  'KSC LC-39A',\n",
       "  'Inmarsat-5 F4',\n",
       "  6070,\n",
       "  'GTO',\n",
       "  'Inmarsat',\n",
       "  'Success',\n",
       "  'No attempt'),\n",
       " ('14-08-2017',\n",
       "  '16:31:00',\n",
       "  'F9 B4 B1039.1',\n",
       "  'KSC LC-39A',\n",
       "  'SpaceX CRS-12',\n",
       "  3310,\n",
       "  'LEO (ISS)',\n",
       "  'NASA (CRS)',\n",
       "  'Success',\n",
       "  'Success (ground pad)'),\n",
       " ('14-08-2016',\n",
       "  '05:26:00',\n",
       "  'F9 FT B1026',\n",
       "  'CCAFS LC-40',\n",
       "  'JCSAT-16',\n",
       "  4600,\n",
       "  'GTO',\n",
       "  'SKY Perfect JSAT Group',\n",
       "  'Success',\n",
       "  'Success (drone ship)'),\n",
       " ('14-07-2014',\n",
       "  '15:15:00',\n",
       "  'F9 v1.1',\n",
       "  'CCAFS LC-40',\n",
       "  'OG2 Mission 1  6 Orbcomm-OG2 satellites',\n",
       "  1316,\n",
       "  'LEO',\n",
       "  'Orbcomm',\n",
       "  'Success',\n",
       "  'Controlled (ocean)'),\n",
       " ('14-04-2015',\n",
       "  '20:10:00',\n",
       "  'F9 v1.1 B1015',\n",
       "  'CCAFS LC-40',\n",
       "  'SpaceX CRS-6',\n",
       "  1898,\n",
       "  'LEO (ISS)',\n",
       "  'NASA (CRS)',\n",
       "  'Success',\n",
       "  'Failure (drone ship)'),\n",
       " ('14-01-2017',\n",
       "  '17:54:00',\n",
       "  'F9 FT B1029.1',\n",
       "  'VAFB SLC-4E',\n",
       "  'Iridium NEXT 1',\n",
       "  9600,\n",
       "  'Polar LEO',\n",
       "  'Iridium Communications',\n",
       "  'Success',\n",
       "  'Success (drone ship)'),\n",
       " ('13-06-2020',\n",
       "  '09:21:00',\n",
       "  'F9 B5 B1059.3',\n",
       "  'CCAFS SLC-40',\n",
       "  'Starlink 8 v1.0, SkySats-16, -17, -18, GPS III-03 ',\n",
       "  15410,\n",
       "  'LEO',\n",
       "  'SpaceX, Planet Labs',\n",
       "  'Success',\n",
       "  'Success'),\n",
       " ('12-06-2019',\n",
       "  '14:17:00',\n",
       "  'F9 B5 B1051.2 ',\n",
       "  'VAFB SLC-4E',\n",
       "  'RADARSAT Constellation, SpaceX CRS-18 ',\n",
       "  4200,\n",
       "  'SSO',\n",
       "  'Canadian Space Agency (CSA)',\n",
       "  'Success',\n",
       "  'Success'),\n",
       " ('11-11-2019',\n",
       "  '14:56:00',\n",
       "  'F9 B5 B1048.4',\n",
       "  'CCAFS SLC-40',\n",
       "  'Starlink 1 v1.0, SpaceX CRS-19 ',\n",
       "  15600,\n",
       "  'LEO',\n",
       "  'SpaceX',\n",
       "  'Success',\n",
       "  'Success'),\n",
       " ('11-10-2017',\n",
       "  '22:53:00',\n",
       "  'F9 FT  B1031.2',\n",
       "  'KSC LC-39A',\n",
       "  'SES-11 / EchoStar 105',\n",
       "  5200,\n",
       "  'GTO',\n",
       "  'SES EchoStar',\n",
       "  'Success',\n",
       "  'Success (drone ship)'),\n",
       " ('11-05-2018',\n",
       "  '20:14:00',\n",
       "  'F9 B5  B1046.1',\n",
       "  'KSC LC-39A',\n",
       "  'Bangabandhu-1',\n",
       "  3600,\n",
       "  'GTO',\n",
       "  'Thales-Alenia/BTRC',\n",
       "  'Success',\n",
       "  'Success (drone ship)'),\n",
       " ('11-02-2015',\n",
       "  '23:03:00',\n",
       "  'F9 v1.1 B1013',\n",
       "  'CCAFS LC-40',\n",
       "  'DSCOVR',\n",
       "  570,\n",
       "  'HEO',\n",
       "  'U.S. Air Force NASA NOAA',\n",
       "  'Success',\n",
       "  'Controlled (ocean)'),\n",
       " ('11-01-2019',\n",
       "  '15:31:00',\n",
       "  'F9 B5 B1049.2',\n",
       "  'VAFB SLC-4E',\n",
       "  'Iridium NEXT-8',\n",
       "  9600,\n",
       "  'Polar LEO',\n",
       "  'Iridium Communications',\n",
       "  'Success',\n",
       "  'Success'),\n",
       " ('10-09-2018',\n",
       "  '04:45:00',\n",
       "  'F9 B5B1049.1',\n",
       "  'CCAFS SLC-40',\n",
       "  'Telstar 18V / Apstar-5C',\n",
       "  7060,\n",
       "  'GTO',\n",
       "  'Telesat',\n",
       "  'Success',\n",
       "  'Success'),\n",
       " ('10-01-2015',\n",
       "  '09:47:00',\n",
       "  'F9 v1.1 B1012',\n",
       "  'CCAFS LC-40',\n",
       "  'SpaceX CRS-5',\n",
       "  2395,\n",
       "  'LEO (ISS)',\n",
       "  'NASA (CRS)',\n",
       "  'Success',\n",
       "  'Failure (drone ship)'),\n",
       " ('09-10-2017',\n",
       "  '12:37:00',\n",
       "  'F9 B4 B1041.1',\n",
       "  'VAFB SLC-4E',\n",
       "  'Iridium NEXT 3',\n",
       "  9600,\n",
       "  'Polar LEO',\n",
       "  'Iridium Communications',\n",
       "  'Success',\n",
       "  'Success (drone ship)'),\n",
       " ('08-12-2010',\n",
       "  '15:43:00',\n",
       "  'F9 v1.0  B0004',\n",
       "  'CCAFS LC-40',\n",
       "  'Dragon demo flight C1, two CubeSats, barrel of Brouere cheese',\n",
       "  0,\n",
       "  'LEO (ISS)',\n",
       "  'NASA (COTS) NRO',\n",
       "  'Success',\n",
       "  'Failure (parachute)'),\n",
       " ('08-10-2018',\n",
       "  '02:22:00',\n",
       "  'F9 B5 B1048.2',\n",
       "  'VAFB SLC-4E',\n",
       "  'SAOCOM 1A',\n",
       "  3000,\n",
       "  'SSO',\n",
       "  'CONAE',\n",
       "  'Success',\n",
       "  'Success'),\n",
       " ('08-10-2012',\n",
       "  '00:35:00',\n",
       "  'F9 v1.0  B0006',\n",
       "  'CCAFS LC-40',\n",
       "  'SpaceX CRS-1',\n",
       "  500,\n",
       "  'LEO (ISS)',\n",
       "  'NASA (CRS)',\n",
       "  'Success',\n",
       "  'No attempt'),\n",
       " ('08-04-2016',\n",
       "  '20:43:00',\n",
       "  'F9 FT B1021.1',\n",
       "  'CCAFS LC-40',\n",
       "  'SpaceX CRS-8',\n",
       "  3136,\n",
       "  'LEO (ISS)',\n",
       "  'NASA (CRS)',\n",
       "  'Success',\n",
       "  'Success (drone ship)'),\n",
       " ('08-01-2018',\n",
       "  '01:00:00',\n",
       "  'F9 B4 B1043.1',\n",
       "  'CCAFS SLC-40',\n",
       "  'Zuma',\n",
       "  5000,\n",
       "  'LEO',\n",
       "  'Northrop Grumman',\n",
       "  'Success (payload status unclear)',\n",
       "  'Success (ground pad)'),\n",
       " ('07-09-2017',\n",
       "  '14:00:00',\n",
       "  'F9 B4 B1040.1',\n",
       "  'KSC LC-39A',\n",
       "  'Boeing X-37B OTV-5',\n",
       "  4990,\n",
       "  'LEO',\n",
       "  'U.S. Air Force',\n",
       "  'Success',\n",
       "  'Success (ground pad)'),\n",
       " ('07-09-2014',\n",
       "  '05:00:00',\n",
       "  'F9 v1.1 B1011',\n",
       "  'CCAFS LC-40',\n",
       "  'AsiaSat 6',\n",
       "  4428,\n",
       "  'GTO',\n",
       "  'AsiaSat',\n",
       "  'Success',\n",
       "  'No attempt'),\n",
       " ('07-08-2020',\n",
       "  '05:12:00',\n",
       "  'F9 B5 B1051.5',\n",
       "  'KSC LC-39A',\n",
       "  'Starlink 9 v1.0, SXRS-1, Starlink 10 v1.0 ',\n",
       "  14932,\n",
       "  'LEO',\n",
       "  'SpaceX, Spaceflight Industries (BlackSky), Planet Labs',\n",
       "  'Success',\n",
       "  'Success'),\n",
       " ('07-08-2018',\n",
       "  '05:18:00',\n",
       "  'F9 B5 B1046.2',\n",
       "  'CCAFS SLC-40',\n",
       "  'Merah Putih ',\n",
       "  5800,\n",
       "  'GTO',\n",
       "  'Telkom Indonesia',\n",
       "  'Success',\n",
       "  'Success'),\n",
       " ('07-03-2020',\n",
       "  '04:50:00',\n",
       "  'F9 B5 B1059.2',\n",
       "  'CCAFS SLC-40',\n",
       "  'SpaceX CRS-20, Starlink 5 v1.0 ',\n",
       "  1977,\n",
       "  'LEO (ISS)',\n",
       "  'NASA (CRS)',\n",
       "  'Success',\n",
       "  'Success'),\n",
       " ('07-01-2020',\n",
       "  '02:33:00',\n",
       "  'F9 B5 B1049.4',\n",
       "  'CCAFS SLC-40',\n",
       "  'Starlink 2 v1.0, Crew Dragon in-flight abort test ',\n",
       "  15600,\n",
       "  'LEO',\n",
       "  'SpaceX',\n",
       "  'Success',\n",
       "  'Success'),\n",
       " ('06-12-2020',\n",
       "  '16:17:08',\n",
       "  'F9 B5 B1058.4 ',\n",
       "  'KSC LC-39A',\n",
       "  'SpaceX CRS-21',\n",
       "  2972,\n",
       "  'LEO (ISS)',\n",
       "  'NASA (CRS)',\n",
       "  'Success',\n",
       "  'Success'),\n",
       " ('06-10-2020',\n",
       "  '11:29:34',\n",
       "  'F9 B5 B1058.3 ',\n",
       "  'KSC LC-39A',\n",
       "  'Starlink 12 v1.0, Starlink 13 v1.0 ',\n",
       "  15600,\n",
       "  'LEO',\n",
       "  'SpaceX',\n",
       "  'Success',\n",
       "  'Success'),\n",
       " ('06-08-2019',\n",
       "  '23:23:00',\n",
       "  'F9 B5 B1047.3 ',\n",
       "  'CCAFS SLC-40',\n",
       "  'AMOS-17, Starlink 1 v1.0 ',\n",
       "  6500,\n",
       "  'GTO',\n",
       "  'Spacecom',\n",
       "  'Success',\n",
       "  'No attempt '),\n",
       " ('06-05-2016',\n",
       "  '05:21:00',\n",
       "  'F9 FT B1022',\n",
       "  'CCAFS LC-40',\n",
       "  'JCSAT-14',\n",
       "  4696,\n",
       "  'GTO',\n",
       "  'SKY Perfect JSAT Group',\n",
       "  'Success',\n",
       "  'Success (drone ship)'),\n",
       " ('06-03-2018',\n",
       "  '05:33:00',\n",
       "  'F9 B4 B1044',\n",
       "  'CCAFS SLC-40',\n",
       "  'Hispasat 30W-6  PODSat',\n",
       "  6092,\n",
       "  'GTO',\n",
       "  'Hispasat  NovaWurks',\n",
       "  'Success',\n",
       "  'No attempt'),\n",
       " ('06-01-2014',\n",
       "  '22:06:00',\n",
       "  'F9 v1.1',\n",
       "  'CCAFS LC-40',\n",
       "  'Thaicom 6',\n",
       "  3325,\n",
       "  'GTO',\n",
       "  'Thaicom',\n",
       "  'Success',\n",
       "  'No attempt'),\n",
       " ('05-12-2019',\n",
       "  '17:29:00',\n",
       "  'F9 B5B1059.1',\n",
       "  'CCAFS SLC-40',\n",
       "  'SpaceX CRS-19, JCSat-18 / Kacific 1 ',\n",
       "  2617,\n",
       "  'LEO (ISS)',\n",
       "  'NASA (CRS), Kacific 1',\n",
       "  'Success',\n",
       "  'Success'),\n",
       " ('05-12-2018',\n",
       "  '18:16:00',\n",
       "  'F9 B5B1050',\n",
       "  'CCAFS SLC-40',\n",
       "  'SpaceX CRS-16',\n",
       "  2500,\n",
       "  'LEO (ISS)',\n",
       "  'NASA (CRS)',\n",
       "  'Success',\n",
       "  'Failure'),\n",
       " ('05-11-2020',\n",
       "  '23:24:23',\n",
       "  'F9 B5B1062.1',\n",
       "  'CCAFS SLC-40',\n",
       "  'GPS III-04 , Crew-1',\n",
       "  4311,\n",
       "  'MEO',\n",
       "  'USSF',\n",
       "  'Success',\n",
       "  'Success'),\n",
       " ('05-08-2014',\n",
       "  '08:00:00',\n",
       "  'F9 v1.1',\n",
       "  'CCAFS LC-40',\n",
       "  'AsiaSat 8',\n",
       "  4535,\n",
       "  'GTO',\n",
       "  'AsiaSat',\n",
       "  'Success',\n",
       "  'No attempt'),\n",
       " ('05-07-2017',\n",
       "  '23:38:00',\n",
       "  'F9 FT B1037',\n",
       "  'KSC LC-39A',\n",
       "  'Intelsat 35e',\n",
       "  6761,\n",
       "  'GTO',\n",
       "  'Intelsat',\n",
       "  'Success',\n",
       "  'No attempt'),\n",
       " ('04-06-2020',\n",
       "  '01:25:00',\n",
       "  'F9 B5 B1049.5',\n",
       "  'CCAFS SLC-40',\n",
       "  'Starlink 7 v1.0, Starlink 8 v1.0',\n",
       "  15600,\n",
       "  'LEO',\n",
       "  'SpaceX, Planet Labs',\n",
       "  'Success',\n",
       "  'Success'),\n",
       " ('04-06-2018',\n",
       "  '04:45:00',\n",
       "  'F9 B4  B1040.2',\n",
       "  'CCAFS SLC-40',\n",
       "  'SES-12',\n",
       "  5384,\n",
       "  'GTO',\n",
       "  'SES',\n",
       "  'Success',\n",
       "  'No attempt'),\n",
       " ('04-06-2010',\n",
       "  '18:45:00',\n",
       "  'F9 v1.0  B0003',\n",
       "  'CCAFS LC-40',\n",
       "  'Dragon Spacecraft Qualification Unit',\n",
       "  0,\n",
       "  'LEO',\n",
       "  'SpaceX',\n",
       "  'Success',\n",
       "  'Failure (parachute)')]"
      ]
     },
     "execution_count": 52,
     "metadata": {},
     "output_type": "execute_result"
    }
   ],
   "source": [
    "cur.execute(\"SELECT * FROM SPACEXTBL WHERE DATE BETWEEN '04-06-2010' AND '20-03-2017' ORDER BY DATE DESC\")\n",
    "cur.fetchall()"
   ]
  },
  {
   "cell_type": "markdown",
   "metadata": {},
   "source": [
    "### Reference Links\n",
    "\n",
    "*   <a href =\"https://cf-courses-data.s3.us.cloud-object-storage.appdomain.cloud/IBMDeveloperSkillsNetwork-DB0201EN-SkillsNetwork/labs/Labs_Coursera_V5/labs/Lab%20-%20String%20Patterns%20-%20Sorting%20-%20Grouping/instructional-labs.md.html?utm_medium=Exinfluencer&utm_source=Exinfluencer&utm_content=000026UJ&utm_term=10006555&utm_id=NA-SkillsNetwork-Channel-SkillsNetworkCoursesIBMDS0321ENSkillsNetwork26802033-2022-01-01&origin=www.coursera.org\">Hands-on Lab : String Patterns, Sorting and Grouping</a>\n",
    "\n",
    "*   <a  href=\"https://cf-courses-data.s3.us.cloud-object-storage.appdomain.cloud/IBMDeveloperSkillsNetwork-DB0201EN-SkillsNetwork/labs/Labs_Coursera_V5/labs/Lab%20-%20Built-in%20functions%20/Hands-on_Lab__Built-in_Functions.md.html?utm_medium=Exinfluencer&utm_source=Exinfluencer&utm_content=000026UJ&utm_term=10006555&utm_id=NA-SkillsNetwork-Channel-SkillsNetworkCoursesIBMDS0321ENSkillsNetwork26802033-2022-01-01&origin=www.coursera.org\">Hands-on Lab: Built-in functions</a>\n",
    "\n",
    "*   <a  href=\"https://cf-courses-data.s3.us.cloud-object-storage.appdomain.cloud/IBMDeveloperSkillsNetwork-DB0201EN-SkillsNetwork/labs/Labs_Coursera_V5/labs/Lab%20-%20Sub-queries%20and%20Nested%20SELECTs%20/instructional-labs.md.html?utm_medium=Exinfluencer&utm_source=Exinfluencer&utm_content=000026UJ&utm_term=10006555&utm_id=NA-SkillsNetwork-Channel-SkillsNetworkCoursesIBMDS0321ENSkillsNetwork26802033-2022-01-01&origin=www.coursera.org\">Hands-on Lab : Sub-queries and Nested SELECT Statements</a>\n",
    "\n",
    "*   <a href=\"https://cf-courses-data.s3.us.cloud-object-storage.appdomain.cloud/IBMDeveloperSkillsNetwork-DB0201EN-SkillsNetwork/labs/Module%205/DB0201EN-Week3-1-3-SQLmagic.ipynb?utm_medium=Exinfluencer&utm_source=Exinfluencer&utm_content=000026UJ&utm_term=10006555&utm_id=NA-SkillsNetwork-Channel-SkillsNetworkCoursesIBMDS0321ENSkillsNetwork26802033-2022-01-01\">Hands-on Tutorial: Accessing Databases with SQL magic</a>\n",
    "\n",
    "*   <a href= \"https://cf-courses-data.s3.us.cloud-object-storage.appdomain.cloud/IBMDeveloperSkillsNetwork-DB0201EN-SkillsNetwork/labs/Module%205/DB0201EN-Week3-1-4-Analyzing.ipynb?utm_medium=Exinfluencer&utm_source=Exinfluencer&utm_content=000026UJ&utm_term=10006555&utm_id=NA-SkillsNetwork-Channel-SkillsNetworkCoursesIBMDS0321ENSkillsNetwork26802033-2022-01-01\">Hands-on Lab: Analyzing a real World Data Set</a>\n"
   ]
  },
  {
   "cell_type": "markdown",
   "metadata": {},
   "source": [
    "## Author(s)\n",
    "\n",
    "<h4> Lakshmi Holla </h4>\n"
   ]
  },
  {
   "cell_type": "markdown",
   "metadata": {},
   "source": [
    "## Other Contributors\n",
    "\n",
    "<h4> Rav Ahuja </h4>\n"
   ]
  },
  {
   "cell_type": "markdown",
   "metadata": {},
   "source": [
    "## Change log\n",
    "\n",
    "| Date       | Version | Changed by    | Change Description        |\n",
    "| ---------- | ------- | ------------- | ------------------------- |\n",
    "| 2021-07-09 | 0.2     | Lakshmi Holla | Changes made in magic sql |\n",
    "| 2021-05-20 | 0.1     | Lakshmi Holla | Created Initial Version   |\n"
   ]
  },
  {
   "cell_type": "markdown",
   "metadata": {},
   "source": [
    "## <h3 align=\"center\"> © IBM Corporation 2021. All rights reserved. <h3/>\n"
   ]
  }
 ],
 "metadata": {
  "kernelspec": {
   "display_name": "Python",
   "language": "python",
   "name": "conda-env-python-py"
  },
  "language_info": {
   "codemirror_mode": {
    "name": "ipython",
    "version": 3
   },
   "file_extension": ".py",
   "mimetype": "text/x-python",
   "name": "python",
   "nbconvert_exporter": "python",
   "pygments_lexer": "ipython3",
   "version": "3.7.12"
  }
 },
 "nbformat": 4,
 "nbformat_minor": 4
}
